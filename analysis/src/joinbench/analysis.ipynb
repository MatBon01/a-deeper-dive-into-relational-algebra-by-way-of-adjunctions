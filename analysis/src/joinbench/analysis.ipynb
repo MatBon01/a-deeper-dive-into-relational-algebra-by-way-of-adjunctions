{
 "cells": [
  {
   "cell_type": "code",
   "execution_count": 6,
   "id": "eb1e8118-91ec-4ec1-94b8-e1f542937727",
   "metadata": {},
   "outputs": [],
   "source": [
    "import pandas as pd\n",
    "from typing import Set, Dict, List, Tuple\n",
    "from collections import defaultdict\n",
    "from benchmark_organiser import BenchmarkOrganiser"
   ]
  },
  {
   "cell_type": "code",
   "execution_count": 7,
   "id": "8bd33bd4-db7b-4c33-9923-56d087216826",
   "metadata": {
    "tags": []
   },
   "outputs": [],
   "source": [
    "joinbench100 = pd.read_json(\"../../../data/joinbench100.json\")"
   ]
  },
  {
   "cell_type": "code",
   "execution_count": 8,
   "id": "f4d9d4a7-3ffa-4359-94e2-8aa107b790bc",
   "metadata": {
    "tags": []
   },
   "outputs": [],
   "source": [
    "names = joinbench100[\"reportName\"]"
   ]
  },
  {
   "cell_type": "code",
   "execution_count": 9,
   "id": "e2852cb1-429e-4f36-ac6f-993fa45b3440",
   "metadata": {
    "tags": []
   },
   "outputs": [
    {
     "data": {
      "text/plain": [
       "0                    join on onePercent/modular product\n",
       "1                  join on onePercent/old comprehension\n",
       "2                    join on onePercent/modular indexed\n",
       "3     join onePercent and twentyPercent/modular product\n",
       "4     join onePercent and twentyPercent/old comprehe...\n",
       "5     join onePercent and twentyPercent/modular indexed\n",
       "6      join onePercent and fiftyPercent/modular product\n",
       "7     join onePercent and fiftyPercent/old comprehen...\n",
       "8      join onePercent and fiftyPercent/modular indexed\n",
       "9                     join even and odd/modular product\n",
       "10                  join even and odd/old comprehension\n",
       "11                    join even and odd/modular indexed\n",
       "Name: reportName, dtype: object"
      ]
     },
     "execution_count": 9,
     "metadata": {},
     "output_type": "execute_result"
    }
   ],
   "source": [
    "names"
   ]
  },
  {
   "cell_type": "code",
   "execution_count": 13,
   "id": "cfe28f39-d2cb-4610-be45-055809fc87f8",
   "metadata": {
    "tags": []
   },
   "outputs": [
    {
     "data": {
      "text/plain": [
       "{'join even and odd',\n",
       " 'join on onePercent',\n",
       " 'join onePercent and fiftyPercent',\n",
       " 'join onePercent and twentyPercent'}"
      ]
     },
     "execution_count": 13,
     "metadata": {},
     "output_type": "execute_result"
    }
   ],
   "source": [
    "BenchmarkOrganiser.get_benchmark_group_names(names)"
   ]
  },
  {
   "cell_type": "code",
   "execution_count": 12,
   "id": "a9760e9e-d003-4579-b73b-5a2aa4d60934",
   "metadata": {
    "tags": []
   },
   "outputs": [
    {
     "data": {
      "text/plain": [
       "defaultdict(list,\n",
       "            {'join on onePercent': [(0, 'modular product'),\n",
       "              (1, 'old comprehension'),\n",
       "              (2, 'modular indexed')],\n",
       "             'join onePercent and twentyPercent': [(3, 'modular product'),\n",
       "              (4, 'old comprehension'),\n",
       "              (5, 'modular indexed')],\n",
       "             'join onePercent and fiftyPercent': [(6, 'modular product'),\n",
       "              (7, 'old comprehension'),\n",
       "              (8, 'modular indexed')],\n",
       "             'join even and odd': [(9, 'modular product'),\n",
       "              (10, 'old comprehension'),\n",
       "              (11, 'modular indexed')]})"
      ]
     },
     "execution_count": 12,
     "metadata": {},
     "output_type": "execute_result"
    }
   ],
   "source": [
    "BenchmarkOrganiser.map_benchmark_groups_and_benchmark_indices(names)"
   ]
  },
  {
   "cell_type": "code",
   "execution_count": null,
   "id": "2d6c0c65-34eb-4c5a-b7d5-b1c7f3f4a50c",
   "metadata": {},
   "outputs": [],
   "source": []
  },
  {
   "cell_type": "code",
   "execution_count": null,
   "id": "5a2cf4ac-6974-4d04-af02-f3f99ae05cce",
   "metadata": {},
   "outputs": [],
   "source": []
  }
 ],
 "metadata": {
  "kernelspec": {
   "display_name": "Python 3 (ipykernel)",
   "language": "python",
   "name": "python3"
  },
  "language_info": {
   "codemirror_mode": {
    "name": "ipython",
    "version": 3
   },
   "file_extension": ".py",
   "mimetype": "text/x-python",
   "name": "python",
   "nbconvert_exporter": "python",
   "pygments_lexer": "ipython3",
   "version": "3.10.10"
  }
 },
 "nbformat": 4,
 "nbformat_minor": 5
}
