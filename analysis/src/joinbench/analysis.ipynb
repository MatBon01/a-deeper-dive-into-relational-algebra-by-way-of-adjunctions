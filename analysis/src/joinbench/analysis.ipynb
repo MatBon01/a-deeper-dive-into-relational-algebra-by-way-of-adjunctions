{
 "cells": [
  {
   "cell_type": "code",
   "execution_count": null,
   "id": "eb1e8118-91ec-4ec1-94b8-e1f542937727",
   "metadata": {},
   "outputs": [],
   "source": [
    "import pandas as pd\n",
    "import matplotlib.pyplot as plt\n",
    "\n",
    "\n",
    "from typing import Set, Dict, List, Tuple\n",
    "from collections import defaultdict\n",
    "from benchmark_data import BenchmarkData"
   ]
  },
  {
   "cell_type": "code",
   "execution_count": null,
   "id": "8bd33bd4-db7b-4c33-9923-56d087216826",
   "metadata": {
    "tags": []
   },
   "outputs": [],
   "source": [
    "data = BenchmarkData(\"../../../data/joinbench100.json\")"
   ]
  },
  {
   "cell_type": "code",
   "execution_count": null,
   "id": "f4d9d4a7-3ffa-4359-94e2-8aa107b790bc",
   "metadata": {
    "tags": []
   },
   "outputs": [],
   "source": [
    "names = data.get_report_names_in_order()"
   ]
  },
  {
   "cell_type": "code",
   "execution_count": null,
   "id": "e2852cb1-429e-4f36-ac6f-993fa45b3440",
   "metadata": {
    "tags": []
   },
   "outputs": [],
   "source": [
    "names"
   ]
  },
  {
   "cell_type": "code",
   "execution_count": null,
   "id": "cfe28f39-d2cb-4610-be45-055809fc87f8",
   "metadata": {
    "tags": []
   },
   "outputs": [],
   "source": [
    "group_names = data.get_benchmark_group_names()\n",
    "group_names"
   ]
  },
  {
   "cell_type": "code",
   "execution_count": null,
   "id": "a9760e9e-d003-4579-b73b-5a2aa4d60934",
   "metadata": {
    "tags": []
   },
   "outputs": [],
   "source": [
    "group_map = data.map_benchmark_groups_and_benchmark_indices()\n",
    "group_map"
   ]
  },
  {
   "cell_type": "code",
   "execution_count": null,
   "id": "2d6c0c65-34eb-4c5a-b7d5-b1c7f3f4a50c",
   "metadata": {
    "tags": []
   },
   "outputs": [],
   "source": []
  },
  {
   "cell_type": "code",
   "execution_count": null,
   "id": "1c2fd6d4-fa70-45ee-a514-1285bd9f75c3",
   "metadata": {
    "tags": []
   },
   "outputs": [],
   "source": [
    "def get_mean(data, index: int) -> float:\n",
    "    return data[\"reportAnalysis\"][index]['anMean']['estPoint']\n",
    "    \n",
    "def get_means(data, indices: List[int]) -> List[float]:\n",
    "    means: List[float] = []\n",
    "    \n",
    "    index: int\n",
    "    for index in indices:\n",
    "        means.append(get_mean(data, index))\n",
    "        \n",
    "    return means"
   ]
  },
  {
   "cell_type": "code",
   "execution_count": null,
   "id": "65bb3d57-9951-4e03-bba1-1d04eb059f09",
   "metadata": {
    "tags": []
   },
   "outputs": [],
   "source": [
    "data.get_benchmark_mean(0)"
   ]
  },
  {
   "cell_type": "code",
   "execution_count": null,
   "id": "0a13a041-7ff8-4462-a0ae-bf54810cdfdb",
   "metadata": {
    "tags": []
   },
   "outputs": [],
   "source": [
    "def plot_benchmark_group_means(ax, data, group_name: str):\n",
    "    group_map = data.map_benchmark_groups_and_benchmark_indices()\n",
    "    experiments = group_map[group_name]\n",
    "\n",
    "    indices, names = zip(*experiments)\n",
    "    means = data.get_means_of_benchmark_list(indices)\n",
    "\n",
    "    ax.set_title(f\"Mean time to complete '{group_name}'\")\n",
    "    ax.set_ylabel(\"time (s)\")\n",
    "    ax.set_xlabel(\"function\")\n",
    "    \n",
    "    ax.bar(names, means)\n",
    "    \n",
    "    return ax\n",
    "    "
   ]
  },
  {
   "cell_type": "code",
   "execution_count": null,
   "id": "5a2cf4ac-6974-4d04-af02-f3f99ae05cce",
   "metadata": {
    "tags": []
   },
   "outputs": [],
   "source": [
    "for group_name in group_names:\n",
    "    fig, ax = plt.subplots()\n",
    "    plot_benchmark_group_means(ax, data, group_name)\n",
    "plt.show()\n",
    "\n",
    "\n",
    "\n",
    "\n",
    "\n",
    "\n",
    "\n"
   ]
  },
  {
   "cell_type": "code",
   "execution_count": null,
   "id": "725cad32-5c0c-42ca-81c0-8c9b6b4708d2",
   "metadata": {},
   "outputs": [],
   "source": []
  }
 ],
 "metadata": {
  "kernelspec": {
   "display_name": "Python 3 (ipykernel)",
   "language": "python",
   "name": "python3"
  },
  "language_info": {
   "codemirror_mode": {
    "name": "ipython",
    "version": 3
   },
   "file_extension": ".py",
   "mimetype": "text/x-python",
   "name": "python",
   "nbconvert_exporter": "python",
   "pygments_lexer": "ipython3",
   "version": "3.11.4"
  }
 },
 "nbformat": 4,
 "nbformat_minor": 5
}
