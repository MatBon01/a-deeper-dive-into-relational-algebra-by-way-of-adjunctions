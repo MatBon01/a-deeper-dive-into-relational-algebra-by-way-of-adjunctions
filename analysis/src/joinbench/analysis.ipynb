{
 "cells": [
  {
   "cell_type": "code",
   "execution_count": 35,
   "id": "eb1e8118-91ec-4ec1-94b8-e1f542937727",
   "metadata": {},
   "outputs": [],
   "source": [
    "import pandas as pd\n",
    "import matplotlib.pyplot as plt\n",
    "\n",
    "\n",
    "from typing import Set, Dict, List, Tuple\n",
    "from collections import defaultdict\n",
    "from benchmark_organiser import BenchmarkOrganiser"
   ]
  },
  {
   "cell_type": "code",
   "execution_count": 14,
   "id": "8bd33bd4-db7b-4c33-9923-56d087216826",
   "metadata": {
    "tags": []
   },
   "outputs": [],
   "source": [
    "joinbench = pd.read_json(\"../../../data/joinbench100.json\")"
   ]
  },
  {
   "cell_type": "code",
   "execution_count": 19,
   "id": "f4d9d4a7-3ffa-4359-94e2-8aa107b790bc",
   "metadata": {
    "tags": []
   },
   "outputs": [],
   "source": [
    "names = joinbench[\"reportName\"]"
   ]
  },
  {
   "cell_type": "code",
   "execution_count": 20,
   "id": "e2852cb1-429e-4f36-ac6f-993fa45b3440",
   "metadata": {
    "tags": []
   },
   "outputs": [
    {
     "data": {
      "text/plain": [
       "0                    join on onePercent/modular product\n",
       "1                  join on onePercent/old comprehension\n",
       "2                    join on onePercent/modular indexed\n",
       "3     join onePercent and twentyPercent/modular product\n",
       "4     join onePercent and twentyPercent/old comprehe...\n",
       "5     join onePercent and twentyPercent/modular indexed\n",
       "6      join onePercent and fiftyPercent/modular product\n",
       "7     join onePercent and fiftyPercent/old comprehen...\n",
       "8      join onePercent and fiftyPercent/modular indexed\n",
       "9                     join even and odd/modular product\n",
       "10                  join even and odd/old comprehension\n",
       "11                    join even and odd/modular indexed\n",
       "Name: reportName, dtype: object"
      ]
     },
     "execution_count": 20,
     "metadata": {},
     "output_type": "execute_result"
    }
   ],
   "source": [
    "names"
   ]
  },
  {
   "cell_type": "code",
   "execution_count": 38,
   "id": "cfe28f39-d2cb-4610-be45-055809fc87f8",
   "metadata": {
    "tags": []
   },
   "outputs": [
    {
     "data": {
      "text/plain": [
       "{'join even and odd',\n",
       " 'join on onePercent',\n",
       " 'join onePercent and fiftyPercent',\n",
       " 'join onePercent and twentyPercent'}"
      ]
     },
     "execution_count": 38,
     "metadata": {},
     "output_type": "execute_result"
    }
   ],
   "source": [
    "group_names = BenchmarkOrganiser.get_benchmark_group_names(names)\n",
    "group_names"
   ]
  },
  {
   "cell_type": "code",
   "execution_count": 40,
   "id": "a9760e9e-d003-4579-b73b-5a2aa4d60934",
   "metadata": {
    "tags": []
   },
   "outputs": [
    {
     "data": {
      "text/plain": [
       "defaultdict(list,\n",
       "            {'join on onePercent': [(0, 'modular product'),\n",
       "              (1, 'old comprehension'),\n",
       "              (2, 'modular indexed')],\n",
       "             'join onePercent and twentyPercent': [(3, 'modular product'),\n",
       "              (4, 'old comprehension'),\n",
       "              (5, 'modular indexed')],\n",
       "             'join onePercent and fiftyPercent': [(6, 'modular product'),\n",
       "              (7, 'old comprehension'),\n",
       "              (8, 'modular indexed')],\n",
       "             'join even and odd': [(9, 'modular product'),\n",
       "              (10, 'old comprehension'),\n",
       "              (11, 'modular indexed')]})"
      ]
     },
     "execution_count": 40,
     "metadata": {},
     "output_type": "execute_result"
    }
   ],
   "source": [
    "group_map = BenchmarkOrganiser.map_benchmark_groups_and_benchmark_indices(names)\n",
    "group_map"
   ]
  },
  {
   "cell_type": "code",
   "execution_count": 72,
   "id": "2d6c0c65-34eb-4c5a-b7d5-b1c7f3f4a50c",
   "metadata": {
    "tags": []
   },
   "outputs": [
    {
     "data": {
      "text/plain": [
       "3.135428690914186e-08"
      ]
     },
     "execution_count": 72,
     "metadata": {},
     "output_type": "execute_result"
    }
   ],
   "source": [
    "joinbench[\"reportAnalysis\"][0]['anMean']['estPoint']"
   ]
  },
  {
   "cell_type": "code",
   "execution_count": 78,
   "id": "1c2fd6d4-fa70-45ee-a514-1285bd9f75c3",
   "metadata": {
    "tags": []
   },
   "outputs": [],
   "source": [
    "def get_mean(data, index: int) -> float:\n",
    "    return data[\"reportAnalysis\"][index]['anMean']['estPoint']\n",
    "    \n",
    "def get_means(data, indices: List[int]) -> List[float]:\n",
    "    means: List[float] = []\n",
    "    \n",
    "    index: int\n",
    "    for index in indices:\n",
    "        means.append(get_mean(data, index))\n",
    "        \n",
    "    return means"
   ]
  },
  {
   "cell_type": "code",
   "execution_count": 79,
   "id": "65bb3d57-9951-4e03-bba1-1d04eb059f09",
   "metadata": {
    "tags": []
   },
   "outputs": [
    {
     "data": {
      "text/plain": [
       "3.135428690914186e-08"
      ]
     },
     "execution_count": 79,
     "metadata": {},
     "output_type": "execute_result"
    }
   ],
   "source": [
    "get_mean(joinbench, 0)"
   ]
  },
  {
   "cell_type": "code",
   "execution_count": 88,
   "id": "0a13a041-7ff8-4462-a0ae-bf54810cdfdb",
   "metadata": {
    "tags": []
   },
   "outputs": [],
   "source": [
    "def plot_benchmark_group_means(ax, data, group_name: str):\n",
    "    group_map = BenchmarkOrganiser.map_benchmark_groups_and_benchmark_indices(data['reportName'])\n",
    "    experiments = group_map[group_name]\n",
    "\n",
    "    indices, names = zip(*experiments)\n",
    "    means = get_means(joinbench, indices)\n",
    "\n",
    "    ax.set_title(f\"Mean time to complete {group_name}\")\n",
    "    ax.set_ylabel(\"time (s)\")\n",
    "    ax.set_xlabel(\"function\")\n",
    "    \n",
    "    ax.bar(names, means)\n",
    "    \n",
    "    return ax\n",
    "    "
   ]
  },
  {
   "cell_type": "code",
   "execution_count": 102,
   "id": "5a2cf4ac-6974-4d04-af02-f3f99ae05cce",
   "metadata": {
    "tags": []
   },
   "outputs": [
    {
     "data": {
      "image/png": "[encoded data removed]",
      "text/plain": [
       "<Figure size 640x480 with 1 Axes>"
      ]
     },
     "metadata": {},
     "output_type": "display_data"
    }
   ],
   "source": [
    "fig, ax = plt.subplots()\n",
    "for group_name in group_names:\n",
    "    plot_benchmark_group_means(ax, joinbench, group_name)\n",
    "    plt.show()\n",
    "\n",
    "\n",
    "\n",
    "\n",
    "\n",
    "\n",
    "\n"
   ]
  },
  {
   "cell_type": "code",
   "execution_count": null,
   "id": "725cad32-5c0c-42ca-81c0-8c9b6b4708d2",
   "metadata": {},
   "outputs": [],
   "source": []
  }
 ],
 "metadata": {
  "kernelspec": {
   "display_name": "Python 3 (ipykernel)",
   "language": "python",
   "name": "python3"
  },
  "language_info": {
   "codemirror_mode": {
    "name": "ipython",
    "version": 3
   },
   "file_extension": ".py",
   "mimetype": "text/x-python",
   "name": "python",
   "nbconvert_exporter": "python",
   "pygments_lexer": "ipython3",
   "version": "3.10.10"
  }
 },
 "nbformat": 4,
 "nbformat_minor": 5
}
