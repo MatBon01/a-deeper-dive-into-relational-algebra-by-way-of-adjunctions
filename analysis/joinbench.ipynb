{
 "cells": [
  {
   "cell_type": "code",
   "execution_count": 1,
   "id": "40328f70-144d-41db-971e-d7f4c74e3346",
   "metadata": {
    "tags": []
   },
   "outputs": [],
   "source": [
    "import sys\n",
    "\n",
    "if \"src\" not in sys.path:\n",
    "    sys.path.insert(0, \"src\")"
   ]
  },
  {
   "cell_type": "code",
   "execution_count": 2,
   "id": "eb1e8118-91ec-4ec1-94b8-e1f542937727",
   "metadata": {},
   "outputs": [],
   "source": [
    "import pandas as pd\n",
    "import matplotlib.pyplot as plt\n",
    "import numpy as np\n",
    "\n",
    "\n",
    "from typing import Set, Dict, List, Tuple\n",
    "from collections import defaultdict\n",
    "from joinbench.benchmark_data import BenchmarkData\n",
    "from joinbench.benchmark_plotter import BenchmarkPlotter\n",
    "from joinbench.evaluation_method_plotter import EvaluationMethodPlotter"
   ]
  },
  {
   "cell_type": "code",
   "execution_count": 3,
   "id": "2bdcee09-c7d9-458f-a7b5-68ba642ffd20",
   "metadata": {
    "tags": []
   },
   "outputs": [],
   "source": [
    "def generate_figure_path(name: str) -> str:\n",
    "    return f\"../report/figures/{name.replace(' ', '-')}.pgf\""
   ]
  },
  {
   "cell_type": "code",
   "execution_count": 4,
   "id": "8bd33bd4-db7b-4c33-9923-56d087216826",
   "metadata": {
    "tags": []
   },
   "outputs": [],
   "source": [
    "nf = BenchmarkData(\"../data/joinbench1000.json\", 1000)\n",
    "whnf = BenchmarkData(\"../data/joinbenchwhnf1000.json\", 1000)"
   ]
  },
  {
   "cell_type": "code",
   "execution_count": 5,
   "id": "f4d9d4a7-3ffa-4359-94e2-8aa107b790bc",
   "metadata": {
    "tags": []
   },
   "outputs": [
    {
     "data": {
      "text/plain": [
       "['join on onePercent/Product equijoin',\n",
       " 'join on onePercent/Comprehension equijoin',\n",
       " 'join on onePercent/Indexed equijoin',\n",
       " 'join onePercent and twentyPercent/Product equijoin',\n",
       " 'join onePercent and twentyPercent/Comprehension equijoin',\n",
       " 'join onePercent and twentyPercent/Indexed equijoin',\n",
       " 'join onePercent and fiftyPercent/Product equijoin',\n",
       " 'join onePercent and fiftyPercent/Comprehension equijoin',\n",
       " 'join onePercent and fiftyPercent/Indexed equijoin',\n",
       " 'join even and odd/Product equijoin',\n",
       " 'join even and odd/Comprehension equijoin',\n",
       " 'join even and odd/Indexed equijoin']"
      ]
     },
     "execution_count": 5,
     "metadata": {},
     "output_type": "execute_result"
    }
   ],
   "source": [
    "names = nf.get_report_names_in_order()\n",
    "names"
   ]
  },
  {
   "cell_type": "code",
   "execution_count": 6,
   "id": "cfe28f39-d2cb-4610-be45-055809fc87f8",
   "metadata": {
    "tags": []
   },
   "outputs": [
    {
     "data": {
      "text/plain": [
       "{'join even and odd',\n",
       " 'join on onePercent',\n",
       " 'join onePercent and fiftyPercent',\n",
       " 'join onePercent and twentyPercent'}"
      ]
     },
     "execution_count": 6,
     "metadata": {},
     "output_type": "execute_result"
    }
   ],
   "source": [
    "group_names = nf.get_benchmark_group_names()\n",
    "group_names"
   ]
  },
  {
   "cell_type": "code",
   "execution_count": 7,
   "id": "a9760e9e-d003-4579-b73b-5a2aa4d60934",
   "metadata": {
    "tags": []
   },
   "outputs": [
    {
     "data": {
      "text/plain": [
       "defaultdict(list,\n",
       "            {'join on onePercent': [(0, 'Product equijoin'),\n",
       "              (1, 'Comprehension equijoin'),\n",
       "              (2, 'Indexed equijoin')],\n",
       "             'join onePercent and twentyPercent': [(3, 'Product equijoin'),\n",
       "              (4, 'Comprehension equijoin'),\n",
       "              (5, 'Indexed equijoin')],\n",
       "             'join onePercent and fiftyPercent': [(6, 'Product equijoin'),\n",
       "              (7, 'Comprehension equijoin'),\n",
       "              (8, 'Indexed equijoin')],\n",
       "             'join even and odd': [(9, 'Product equijoin'),\n",
       "              (10, 'Comprehension equijoin'),\n",
       "              (11, 'Indexed equijoin')]})"
      ]
     },
     "execution_count": 7,
     "metadata": {},
     "output_type": "execute_result"
    }
   ],
   "source": [
    "group_map = nf.map_benchmark_groups_and_benchmark_indices()\n",
    "group_map"
   ]
  },
  {
   "cell_type": "code",
   "execution_count": 8,
   "id": "65bb3d57-9951-4e03-bba1-1d04eb059f09",
   "metadata": {
    "tags": []
   },
   "outputs": [
    {
     "data": {
      "text/plain": [
       "0.06538674947374326"
      ]
     },
     "execution_count": 8,
     "metadata": {},
     "output_type": "execute_result"
    }
   ],
   "source": [
    "nf.get_benchmark_mean(0)"
   ]
  },
  {
   "cell_type": "code",
   "execution_count": 9,
   "id": "0a13a041-7ff8-4462-a0ae-bf54810cdfdb",
   "metadata": {
    "tags": []
   },
   "outputs": [],
   "source": [
    "whnf_plotter = BenchmarkPlotter(whnf)\n",
    "# whnf_plotter.plot_benchmark_group_means(ax, g"
   ]
  },
  {
   "cell_type": "code",
   "execution_count": 10,
   "id": "3b9d6dc6-11db-48dd-b117-c3040b29c5b6",
   "metadata": {
    "tags": []
   },
   "outputs": [
    {
     "data": {
      "text/plain": [
       "'join onePercent and fiftyPercent'"
      ]
     },
     "execution_count": 10,
     "metadata": {},
     "output_type": "execute_result"
    }
   ],
   "source": [
    "bg = list(whnf.get_benchmark_group_names())[0]\n",
    "bg"
   ]
  },
  {
   "cell_type": "code",
   "execution_count": 11,
   "id": "5a2cf4ac-6974-4d04-af02-f3f99ae05cce",
   "metadata": {
    "tags": []
   },
   "outputs": [
    {
     "ename": "SyntaxError",
     "evalue": "'(' was never closed (582984962.py, line 5)",
     "output_type": "error",
     "traceback": [
      "\u001b[0;36m  Cell \u001b[0;32mIn[11], line 5\u001b[0;36m\u001b[0m\n\u001b[0;31m    plt.savefig(create_figure_path(group_name)\u001b[0m\n\u001b[0m               ^\u001b[0m\n\u001b[0;31mSyntaxError\u001b[0m\u001b[0;31m:\u001b[0m '(' was never closed\n"
     ]
    }
   ],
   "source": [
    "plotter = BenchmarkPlotter(nf)\n",
    "for group_name in group_names:\n",
    "    fig, ax = plt.subplots()\n",
    "    plotter.plot_benchmark_group_means(ax, group_name)\n",
    "    plt.savefig(create_figure_path(group_name)\n",
    "plt.show()"
   ]
  },
  {
   "cell_type": "code",
   "execution_count": null,
   "id": "e9d6fbb2-0c20-453c-9cb0-15f78196e82d",
   "metadata": {},
   "outputs": [],
   "source": [
    "emp = EvaluationMethodPlotter(nf, whnf)\n",
    "\n",
    "for group in nf.get_benchmark_group_names():\n",
    "    fig, ax = plt.subplots()\n",
    "    emp.plot_benchmark_group_means_comparison(ax, group)\n",
    "    plt.show()"
   ]
  },
  {
   "cell_type": "code",
   "execution_count": null,
   "id": "90eaa318-b182-4533-918a-d3bfb19b1384",
   "metadata": {},
   "outputs": [],
   "source": [
    "whnf.map_benchmark_groups_and_benchmark_indices()[bg]"
   ]
  },
  {
   "cell_type": "code",
   "execution_count": null,
   "id": "f26aa79a-7c9b-4d7f-b32b-1bfc6c2ae3ee",
   "metadata": {},
   "outputs": [],
   "source": [
    "print(whnf.get_benchmark_mean(3))\n",
    "print(whnf.get_benchmark_mean(4))"
   ]
  },
  {
   "cell_type": "code",
   "execution_count": null,
   "id": "2b273ea2-b36d-4252-8273-32bf318e4772",
   "metadata": {},
   "outputs": [],
   "source": []
  },
  {
   "cell_type": "code",
   "execution_count": null,
   "id": "c2adef8d-8ceb-49f6-acf6-39a322f3033e",
   "metadata": {},
   "outputs": [],
   "source": []
  }
 ],
 "metadata": {
  "kernelspec": {
   "display_name": "Python 3 (ipykernel)",
   "language": "python",
   "name": "python3"
  },
  "language_info": {
   "codemirror_mode": {
    "name": "ipython",
    "version": 3
   },
   "file_extension": ".py",
   "mimetype": "text/x-python",
   "name": "python",
   "nbconvert_exporter": "python",
   "pygments_lexer": "ipython3",
   "version": "3.11.4"
  }
 },
 "nbformat": 4,
 "nbformat_minor": 5
}
